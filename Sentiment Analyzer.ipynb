{
 "cells": [
  {
   "cell_type": "markdown",
   "metadata": {},
   "source": [
    "# Sentiment Analysis \n",
    "This is a sentiment analysis program that parses the tweets fetched from twitter using python. for this particular program we'll use tweets from Safaricom"
   ]
  },
  {
   "cell_type": "markdown",
   "metadata": {},
   "source": [
    "# import the libraries"
   ]
  },
  {
   "cell_type": "code",
   "execution_count": null,
   "metadata": {},
   "outputs": [],
   "source": [
    "import pandas as pd\n",
    "import numpy as np\n",
    "import matplotlib.pyplot as plt\n",
    "import seaborn as sns\n",
    "import re\n",
    "import string\n",
    "import nltk\n",
    "import warnings\n",
    "from textblob import TextBlob\n",
    "%matplotlib inline\n",
    "warnings.filterwarnings('ignore')\n",
    "plt.style.use('fivethirtyeight')"
   ]
  },
  {
   "cell_type": "markdown",
   "metadata": {},
   "source": [
    "# Read the csv file using pandas"
   ]
  },
  {
   "cell_type": "code",
   "execution_count": null,
   "metadata": {},
   "outputs": [],
   "source": [
    "#we can see that we have 114867 rows and 2 columns\n",
    "df = pd.read_csv('safaricom_tweets 2.csv' )\n",
    "df"
   ]
  },
  {
   "cell_type": "markdown",
   "metadata": {},
   "source": [
    "# Data cleaning"
   ]
  },
  {
   "cell_type": "code",
   "execution_count": null,
   "metadata": {},
   "outputs": [],
   "source": [
    "#create a function to clean tweets \n",
    "def cleanTxt(text):\n",
    "    text=re.sub(r'@[A-Za-z0-9]+','',text)# removed @mentions\n",
    "    text=re.sub(r'#','',text)#removing '#' symbol\n",
    "    text=re.sub(r'RT[\\s]+','',text)#removing RT\n",
    "    text=re.sub(r'https?\\/\\/\\s+','',text)#removing the hyper link\n",
    "    return text\n",
    "df['tweet']=df['tweet'].apply(cleanTxt) #apply fuction to clean the tweets\n",
    "df.head()"
   ]
  },
  {
   "cell_type": "markdown",
   "metadata": {},
   "source": [
    "# Get the Subjectivity and the polarity"
   ]
  },
  {
   "cell_type": "code",
   "execution_count": null,
   "metadata": {},
   "outputs": [],
   "source": [
    "#create a function to get the subjectivity\n",
    "def getSubjectivity(text):\n",
    "    return TextBlob(text).sentiment.subjectivity\n",
    "\n",
    "#create a function to get the polarity\n",
    "def getPolarity(text):\n",
    "    return TextBlob(text).sentiment.polarity\n",
    "\n",
    "#create two new columns call subjectivity and polarity\n",
    "df['subjectivity']=df['tweet'].apply(getSubjectivity)\n",
    "df['polarity']=df['tweet'].apply(getPolarity)\n",
    "\n",
    "#show dataframe with new columns\n",
    "df.head()"
   ]
  },
  {
   "cell_type": "code",
   "execution_count": null,
   "metadata": {},
   "outputs": [],
   "source": [
    "# visualize the frequent words\n",
    "all_words = \" \".join([sentence for sentence in df['tweet']])\n",
    "\n",
    "from wordcloud import WordCloud\n",
    "wordcloud = WordCloud(width=700, height=400, random_state=42, max_font_size=100).generate(all_words)\n",
    "\n",
    "# plot the graph\n",
    "plt.figure(figsize=(15,8))\n",
    "plt.imshow(wordcloud, interpolation='bilinear')\n",
    "plt.axis('off')\n",
    "plt.show()"
   ]
  },
  {
   "cell_type": "markdown",
   "metadata": {},
   "source": [
    "# sentiment analysis"
   ]
  },
  {
   "cell_type": "code",
   "execution_count": null,
   "metadata": {},
   "outputs": [],
   "source": [
    "#create a function to compute the negative,positive and neutral analysis\n",
    "def getAnalysis(score):\n",
    "    if score<0:\n",
    "        return 'Negative'\n",
    "    elif score==0:\n",
    "        return 'Neutral'\n",
    "    else:\n",
    "        return 'Positive'\n",
    "df['Analysis']=df['polarity'].apply(getAnalysis)\n",
    "\n",
    "df"
   ]
  },
  {
   "cell_type": "code",
   "execution_count": null,
   "metadata": {},
   "outputs": [],
   "source": [
    "#print all of the positive tweets\n",
    "j=1\n",
    "sortedDF=df.sort_values(by=['polarity'])\n",
    "for i in range(0, sortedDF.shape[0]):\n",
    "    if(sortedDF['Analysis'][i]=='Positive'):\n",
    "        print(str(j)+')'+sortedDF['tweet'][i])\n",
    "        print()\n",
    "        j=j+1"
   ]
  },
  {
   "cell_type": "code",
   "execution_count": null,
   "metadata": {},
   "outputs": [],
   "source": [
    "#print all of the negative tweets\n",
    "j=1\n",
    "sortedDF=df.sort_values(by=['polarity'])\n",
    "for i in range(0, sortedDF.shape[0]):\n",
    "    if(sortedDF['Analysis'][i]=='Negative'):\n",
    "        print(str(j)+')'+sortedDF['tweet'][i])\n",
    "        print()\n",
    "        j=j+1"
   ]
  },
  {
   "cell_type": "code",
   "execution_count": null,
   "metadata": {},
   "outputs": [],
   "source": [
    "#print all of the neutral tweets\n",
    "j=1\n",
    "sortedDF=df.sort_values(by=['polarity'])\n",
    "for i in range(0, sortedDF.shape[0]):\n",
    "    if(sortedDF['Analysis'][i]=='Neutral'):\n",
    "        print(str(j)+')'+sortedDF['tweet'][i])\n",
    "        print()\n",
    "        j=j+1"
   ]
  },
  {
   "cell_type": "code",
   "execution_count": null,
   "metadata": {},
   "outputs": [],
   "source": [
    "#plot polarity and subjectivity\n",
    "tweet_polarity=df['polarity']\n",
    "tweet_subjectivity=df['subjectivity']\n",
    "sns.scatterplot(tweet_polarity, # X-axis\n",
    "                tweet_subjectivity,  # Y-axis\n",
    "                s=10);\n",
    "\n",
    "\n",
    "plt.title(\"Sentiment Analysis\", fontsize = 20)\n",
    "plt.xlabel('polarity', fontsize=15)\n",
    "plt.ylabel('subjectivity', fontsize=15)\n",
    "plt.tight_layout()"
   ]
  },
  {
   "cell_type": "code",
   "execution_count": null,
   "metadata": {},
   "outputs": [],
   "source": [
    "#Get the percentage of positive tweets\n",
    "ptweets=df[df.Analysis=='Positive']\n",
    "ptweets=ptweets['tweet']\n",
    "\n",
    "round((ptweets.shape[0]/df.shape[0])*100,1)"
   ]
  },
  {
   "cell_type": "code",
   "execution_count": null,
   "metadata": {},
   "outputs": [],
   "source": [
    "#Get the percentage of negative tweets\n",
    "ptweets=df[df.Analysis=='Negative']\n",
    "ptweets=ptweets['tweet']\n",
    "\n",
    "round((ptweets.shape[0]/df.shape[0])*100,1)"
   ]
  },
  {
   "cell_type": "code",
   "execution_count": null,
   "metadata": {},
   "outputs": [],
   "source": [
    "#Get the percentage of neutral tweets\n",
    "ptweets=df[df.Analysis=='Neutral']\n",
    "ptweets=ptweets['tweet']\n",
    "\n",
    "round((ptweets.shape[0]/df.shape[0])*100,1)"
   ]
  },
  {
   "cell_type": "code",
   "execution_count": null,
   "metadata": {},
   "outputs": [],
   "source": [
    "#show the value counts\n",
    "df['Analysis'].value_counts()\n",
    "\n",
    "#plot and visualize the counts\n",
    "plt.title('sentiment analysis')\n",
    "plt.xlabel('sentiment')\n",
    "plt.ylabel('counts')\n",
    "df['Analysis'].value_counts().plot(kind='bar')"
   ]
  },
  {
   "cell_type": "code",
   "execution_count": null,
   "metadata": {},
   "outputs": [],
   "source": []
  },
  {
   "cell_type": "markdown",
   "metadata": {},
   "source": [
    "# Machine Learning"
   ]
  },
  {
   "cell_type": "markdown",
   "metadata": {},
   "source": [
    "# Support Vector Machine"
   ]
  },
  {
   "cell_type": "code",
   "execution_count": null,
   "metadata": {},
   "outputs": [],
   "source": [
    "#Import the libraries of Support Vector Machine\n",
    "from sklearn.feature_extraction.text import TfidfVectorizer\n",
    "from sklearn.model_selection import train_test_split\n",
    "from sklearn.svm import LinearSVC\n",
    "from sklearn.metrics import classification_report"
   ]
  },
  {
   "cell_type": "code",
   "execution_count": null,
   "metadata": {},
   "outputs": [],
   "source": [
    "df.head()"
   ]
  },
  {
   "cell_type": "code",
   "execution_count": null,
   "metadata": {},
   "outputs": [],
   "source": [
    "tfidf=TfidfVectorizer(max_features=5000)\n",
    "x=df['tweet']\n",
    "y=df['Analysis']\n",
    "\n",
    "x=tfidf.fit_transform(x)\n",
    "\n",
    "x_train,x_test,y_train,y_test=train_test_split(x,y, test_size=0.2, random_state=0)"
   ]
  },
  {
   "cell_type": "code",
   "execution_count": null,
   "metadata": {},
   "outputs": [],
   "source": [
    "#training of the machine\n",
    "clf=LinearSVC()\n",
    "clf.fit(x_train, y_train )"
   ]
  },
  {
   "cell_type": "code",
   "execution_count": null,
   "metadata": {},
   "outputs": [],
   "source": [
    "# performance of the algorithm\n",
    "y_pred=clf.predict(x_test)\n",
    "print(classification_report(y_test, y_pred))"
   ]
  },
  {
   "cell_type": "code",
   "execution_count": null,
   "metadata": {},
   "outputs": [],
   "source": [
    "#prediction with random sentence\n",
    "x=\"i am happy today !\"\n",
    "vec=tfidf.transform([x])\n",
    "clf.predict(vec)"
   ]
  },
  {
   "cell_type": "code",
   "execution_count": null,
   "metadata": {},
   "outputs": [],
   "source": []
  },
  {
   "cell_type": "markdown",
   "metadata": {},
   "source": [
    "# Naïve Bayes algorithms"
   ]
  },
  {
   "cell_type": "code",
   "execution_count": null,
   "metadata": {},
   "outputs": [],
   "source": [
    "from sklearn.naive_bayes import MultinomialNB\n",
    "model_naive=MultinomialNB().fit(x_train, y_train)\n",
    "predicted_naive = model_naive.predict(x_test)"
   ]
  },
  {
   "cell_type": "code",
   "execution_count": null,
   "metadata": {},
   "outputs": [],
   "source": [
    "# performance of the algorithm\n",
    "print(classification_report(y_test, predicted_naive))"
   ]
  },
  {
   "cell_type": "code",
   "execution_count": null,
   "metadata": {},
   "outputs": [],
   "source": []
  },
  {
   "cell_type": "markdown",
   "metadata": {},
   "source": [
    "# Logistic Regression algorithm"
   ]
  },
  {
   "cell_type": "code",
   "execution_count": null,
   "metadata": {},
   "outputs": [],
   "source": [
    "from sklearn.linear_model import LogisticRegression\n",
    "logistic_reg=LogisticRegression().fit(x_train, y_train)\n",
    "predicted_logistic_reg=logistic_reg.predict(x_test)"
   ]
  },
  {
   "cell_type": "code",
   "execution_count": null,
   "metadata": {},
   "outputs": [],
   "source": [
    "# performance of the algorithm\n",
    "print(classification_report(y_test, predicted_logistic_reg))"
   ]
  },
  {
   "cell_type": "code",
   "execution_count": null,
   "metadata": {},
   "outputs": [],
   "source": []
  }
 ],
 "metadata": {
  "kernelspec": {
   "display_name": "Python 3 (ipykernel)",
   "language": "python",
   "name": "python3"
  },
  "language_info": {
   "codemirror_mode": {
    "name": "ipython",
    "version": 3
   },
   "file_extension": ".py",
   "mimetype": "text/x-python",
   "name": "python",
   "nbconvert_exporter": "python",
   "pygments_lexer": "ipython3",
   "version": "3.10.9"
  }
 },
 "nbformat": 4,
 "nbformat_minor": 4
}
